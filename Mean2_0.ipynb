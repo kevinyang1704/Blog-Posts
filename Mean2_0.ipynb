{
  "cells": [
    {
      "cell_type": "markdown",
      "metadata": {
        "id": "view-in-github",
        "colab_type": "text"
      },
      "source": [
        "<a href=\"https://colab.research.google.com/github/kevinyang1704/Blog-Posts/blob/main/Mean2_0.ipynb\" target=\"_parent\"><img src=\"https://colab.research.google.com/assets/colab-badge.svg\" alt=\"Open In Colab\"/></a>"
      ]
    },
    {
      "cell_type": "code",
      "execution_count": null,
      "metadata": {
        "id": "MBKtzq80Y6U6"
      },
      "outputs": [],
      "source": [
        "import pandas as pd\n",
        "import numpy as np\n",
        "from matplotlib import pyplot\n",
        "import matplotlib.pyplot as plt\n",
        "from matplotlib.pyplot import figure\n",
        "import statsmodels.api as sm\n",
        "from scipy import stats\n"
      ]
    },
    {
      "cell_type": "code",
      "execution_count": null,
      "metadata": {
        "id": "Mn_eywZKZRjm"
      },
      "outputs": [],
      "source": [
        "size = 1000 # Size of your sample\n",
        "\n",
        "# Users pre-treatment data will be drawn from a normal distribution with some mean and variance (assuming normality is convenient, not required)\n",
        "predata_mean = 1\n",
        "pre_data_var = 1\n",
        "\n",
        "# To generate post treatment data, we'll\n",
        "true_beta = 0\n",
        "error_var = 10\n",
        "\n",
        "# Finally we'll implement a true effect (this is not required)\n",
        "true_effect = 1\n"
      ]
    },
    {
      "cell_type": "code",
      "execution_count": null,
      "metadata": {
        "id": "n2An7SF3ap9r"
      },
      "outputs": [],
      "source": [
        "treatment = np.random.randint(2, size=size)\n",
        "pre_data = np.random.normal(predata_mean, pre_data_var, size)\n",
        "post_data = true_beta*pre_data + np.random.normal(0, error_var, size)\n",
        "\n",
        "\n",
        "df = pd.DataFrame({'treatment': treatment, 'pre_data': pre_data, 'post_data': post_data})"
      ]
    },
    {
      "cell_type": "code",
      "execution_count": null,
      "metadata": {
        "colab": {
          "base_uri": "https://localhost:8080/",
          "height": 206
        },
        "id": "UndrIcAaa5q9",
        "outputId": "5585ec7a-ded4-4646-b184-0ea456951f93"
      },
      "outputs": [
        {
          "data": {
            "application/vnd.google.colaboratory.intrinsic+json": {
              "summary": "{\n  \"name\": \"df\",\n  \"rows\": 1000,\n  \"fields\": [\n    {\n      \"column\": \"treatment\",\n      \"properties\": {\n        \"dtype\": \"number\",\n        \"std\": 0,\n        \"min\": 0,\n        \"max\": 1,\n        \"num_unique_values\": 2,\n        \"samples\": [\n          1,\n          0\n        ],\n        \"semantic_type\": \"\",\n        \"description\": \"\"\n      }\n    },\n    {\n      \"column\": \"pre_data\",\n      \"properties\": {\n        \"dtype\": \"number\",\n        \"std\": 1.0063577034311275,\n        \"min\": -2.2485920766382086,\n        \"max\": 3.9250433040196584,\n        \"num_unique_values\": 1000,\n        \"samples\": [\n          1.0828549075031244,\n          1.087927813215739\n        ],\n        \"semantic_type\": \"\",\n        \"description\": \"\"\n      }\n    },\n    {\n      \"column\": \"post_data\",\n      \"properties\": {\n        \"dtype\": \"number\",\n        \"std\": 9.990736025959256,\n        \"min\": -36.22233972514762,\n        \"max\": 33.44479042431348,\n        \"num_unique_values\": 1000,\n        \"samples\": [\n          3.9706607756469827,\n          -7.3902392644117825\n        ],\n        \"semantic_type\": \"\",\n        \"description\": \"\"\n      }\n    }\n  ]\n}",
              "type": "dataframe",
              "variable_name": "df"
            },
            "text/html": [
              "\n",
              "  <div id=\"df-b878154d-febe-4cb5-922d-8f02b4dc02a0\" class=\"colab-df-container\">\n",
              "    <div>\n",
              "<style scoped>\n",
              "    .dataframe tbody tr th:only-of-type {\n",
              "        vertical-align: middle;\n",
              "    }\n",
              "\n",
              "    .dataframe tbody tr th {\n",
              "        vertical-align: top;\n",
              "    }\n",
              "\n",
              "    .dataframe thead th {\n",
              "        text-align: right;\n",
              "    }\n",
              "</style>\n",
              "<table border=\"1\" class=\"dataframe\">\n",
              "  <thead>\n",
              "    <tr style=\"text-align: right;\">\n",
              "      <th></th>\n",
              "      <th>treatment</th>\n",
              "      <th>pre_data</th>\n",
              "      <th>post_data</th>\n",
              "    </tr>\n",
              "  </thead>\n",
              "  <tbody>\n",
              "    <tr>\n",
              "      <th>0</th>\n",
              "      <td>0</td>\n",
              "      <td>0.000381</td>\n",
              "      <td>4.019411</td>\n",
              "    </tr>\n",
              "    <tr>\n",
              "      <th>1</th>\n",
              "      <td>0</td>\n",
              "      <td>0.014827</td>\n",
              "      <td>13.005336</td>\n",
              "    </tr>\n",
              "    <tr>\n",
              "      <th>2</th>\n",
              "      <td>1</td>\n",
              "      <td>0.271014</td>\n",
              "      <td>7.028306</td>\n",
              "    </tr>\n",
              "    <tr>\n",
              "      <th>3</th>\n",
              "      <td>0</td>\n",
              "      <td>-0.310385</td>\n",
              "      <td>-3.516433</td>\n",
              "    </tr>\n",
              "    <tr>\n",
              "      <th>4</th>\n",
              "      <td>0</td>\n",
              "      <td>0.882804</td>\n",
              "      <td>-2.314829</td>\n",
              "    </tr>\n",
              "  </tbody>\n",
              "</table>\n",
              "</div>\n",
              "    <div class=\"colab-df-buttons\">\n",
              "\n",
              "  <div class=\"colab-df-container\">\n",
              "    <button class=\"colab-df-convert\" onclick=\"convertToInteractive('df-b878154d-febe-4cb5-922d-8f02b4dc02a0')\"\n",
              "            title=\"Convert this dataframe to an interactive table.\"\n",
              "            style=\"display:none;\">\n",
              "\n",
              "  <svg xmlns=\"http://www.w3.org/2000/svg\" height=\"24px\" viewBox=\"0 -960 960 960\">\n",
              "    <path d=\"M120-120v-720h720v720H120Zm60-500h600v-160H180v160Zm220 220h160v-160H400v160Zm0 220h160v-160H400v160ZM180-400h160v-160H180v160Zm440 0h160v-160H620v160ZM180-180h160v-160H180v160Zm440 0h160v-160H620v160Z\"/>\n",
              "  </svg>\n",
              "    </button>\n",
              "\n",
              "  <style>\n",
              "    .colab-df-container {\n",
              "      display:flex;\n",
              "      gap: 12px;\n",
              "    }\n",
              "\n",
              "    .colab-df-convert {\n",
              "      background-color: #E8F0FE;\n",
              "      border: none;\n",
              "      border-radius: 50%;\n",
              "      cursor: pointer;\n",
              "      display: none;\n",
              "      fill: #1967D2;\n",
              "      height: 32px;\n",
              "      padding: 0 0 0 0;\n",
              "      width: 32px;\n",
              "    }\n",
              "\n",
              "    .colab-df-convert:hover {\n",
              "      background-color: #E2EBFA;\n",
              "      box-shadow: 0px 1px 2px rgba(60, 64, 67, 0.3), 0px 1px 3px 1px rgba(60, 64, 67, 0.15);\n",
              "      fill: #174EA6;\n",
              "    }\n",
              "\n",
              "    .colab-df-buttons div {\n",
              "      margin-bottom: 4px;\n",
              "    }\n",
              "\n",
              "    [theme=dark] .colab-df-convert {\n",
              "      background-color: #3B4455;\n",
              "      fill: #D2E3FC;\n",
              "    }\n",
              "\n",
              "    [theme=dark] .colab-df-convert:hover {\n",
              "      background-color: #434B5C;\n",
              "      box-shadow: 0px 1px 3px 1px rgba(0, 0, 0, 0.15);\n",
              "      filter: drop-shadow(0px 1px 2px rgba(0, 0, 0, 0.3));\n",
              "      fill: #FFFFFF;\n",
              "    }\n",
              "  </style>\n",
              "\n",
              "    <script>\n",
              "      const buttonEl =\n",
              "        document.querySelector('#df-b878154d-febe-4cb5-922d-8f02b4dc02a0 button.colab-df-convert');\n",
              "      buttonEl.style.display =\n",
              "        google.colab.kernel.accessAllowed ? 'block' : 'none';\n",
              "\n",
              "      async function convertToInteractive(key) {\n",
              "        const element = document.querySelector('#df-b878154d-febe-4cb5-922d-8f02b4dc02a0');\n",
              "        const dataTable =\n",
              "          await google.colab.kernel.invokeFunction('convertToInteractive',\n",
              "                                                    [key], {});\n",
              "        if (!dataTable) return;\n",
              "\n",
              "        const docLinkHtml = 'Like what you see? Visit the ' +\n",
              "          '<a target=\"_blank\" href=https://colab.research.google.com/notebooks/data_table.ipynb>data table notebook</a>'\n",
              "          + ' to learn more about interactive tables.';\n",
              "        element.innerHTML = '';\n",
              "        dataTable['output_type'] = 'display_data';\n",
              "        await google.colab.output.renderOutput(dataTable, element);\n",
              "        const docLink = document.createElement('div');\n",
              "        docLink.innerHTML = docLinkHtml;\n",
              "        element.appendChild(docLink);\n",
              "      }\n",
              "    </script>\n",
              "  </div>\n",
              "\n",
              "\n",
              "<div id=\"df-8a409f61-c49f-4cda-9420-159feef28845\">\n",
              "  <button class=\"colab-df-quickchart\" onclick=\"quickchart('df-8a409f61-c49f-4cda-9420-159feef28845')\"\n",
              "            title=\"Suggest charts\"\n",
              "            style=\"display:none;\">\n",
              "\n",
              "<svg xmlns=\"http://www.w3.org/2000/svg\" height=\"24px\"viewBox=\"0 0 24 24\"\n",
              "     width=\"24px\">\n",
              "    <g>\n",
              "        <path d=\"M19 3H5c-1.1 0-2 .9-2 2v14c0 1.1.9 2 2 2h14c1.1 0 2-.9 2-2V5c0-1.1-.9-2-2-2zM9 17H7v-7h2v7zm4 0h-2V7h2v10zm4 0h-2v-4h2v4z\"/>\n",
              "    </g>\n",
              "</svg>\n",
              "  </button>\n",
              "\n",
              "<style>\n",
              "  .colab-df-quickchart {\n",
              "      --bg-color: #E8F0FE;\n",
              "      --fill-color: #1967D2;\n",
              "      --hover-bg-color: #E2EBFA;\n",
              "      --hover-fill-color: #174EA6;\n",
              "      --disabled-fill-color: #AAA;\n",
              "      --disabled-bg-color: #DDD;\n",
              "  }\n",
              "\n",
              "  [theme=dark] .colab-df-quickchart {\n",
              "      --bg-color: #3B4455;\n",
              "      --fill-color: #D2E3FC;\n",
              "      --hover-bg-color: #434B5C;\n",
              "      --hover-fill-color: #FFFFFF;\n",
              "      --disabled-bg-color: #3B4455;\n",
              "      --disabled-fill-color: #666;\n",
              "  }\n",
              "\n",
              "  .colab-df-quickchart {\n",
              "    background-color: var(--bg-color);\n",
              "    border: none;\n",
              "    border-radius: 50%;\n",
              "    cursor: pointer;\n",
              "    display: none;\n",
              "    fill: var(--fill-color);\n",
              "    height: 32px;\n",
              "    padding: 0;\n",
              "    width: 32px;\n",
              "  }\n",
              "\n",
              "  .colab-df-quickchart:hover {\n",
              "    background-color: var(--hover-bg-color);\n",
              "    box-shadow: 0 1px 2px rgba(60, 64, 67, 0.3), 0 1px 3px 1px rgba(60, 64, 67, 0.15);\n",
              "    fill: var(--button-hover-fill-color);\n",
              "  }\n",
              "\n",
              "  .colab-df-quickchart-complete:disabled,\n",
              "  .colab-df-quickchart-complete:disabled:hover {\n",
              "    background-color: var(--disabled-bg-color);\n",
              "    fill: var(--disabled-fill-color);\n",
              "    box-shadow: none;\n",
              "  }\n",
              "\n",
              "  .colab-df-spinner {\n",
              "    border: 2px solid var(--fill-color);\n",
              "    border-color: transparent;\n",
              "    border-bottom-color: var(--fill-color);\n",
              "    animation:\n",
              "      spin 1s steps(1) infinite;\n",
              "  }\n",
              "\n",
              "  @keyframes spin {\n",
              "    0% {\n",
              "      border-color: transparent;\n",
              "      border-bottom-color: var(--fill-color);\n",
              "      border-left-color: var(--fill-color);\n",
              "    }\n",
              "    20% {\n",
              "      border-color: transparent;\n",
              "      border-left-color: var(--fill-color);\n",
              "      border-top-color: var(--fill-color);\n",
              "    }\n",
              "    30% {\n",
              "      border-color: transparent;\n",
              "      border-left-color: var(--fill-color);\n",
              "      border-top-color: var(--fill-color);\n",
              "      border-right-color: var(--fill-color);\n",
              "    }\n",
              "    40% {\n",
              "      border-color: transparent;\n",
              "      border-right-color: var(--fill-color);\n",
              "      border-top-color: var(--fill-color);\n",
              "    }\n",
              "    60% {\n",
              "      border-color: transparent;\n",
              "      border-right-color: var(--fill-color);\n",
              "    }\n",
              "    80% {\n",
              "      border-color: transparent;\n",
              "      border-right-color: var(--fill-color);\n",
              "      border-bottom-color: var(--fill-color);\n",
              "    }\n",
              "    90% {\n",
              "      border-color: transparent;\n",
              "      border-bottom-color: var(--fill-color);\n",
              "    }\n",
              "  }\n",
              "</style>\n",
              "\n",
              "  <script>\n",
              "    async function quickchart(key) {\n",
              "      const quickchartButtonEl =\n",
              "        document.querySelector('#' + key + ' button');\n",
              "      quickchartButtonEl.disabled = true;  // To prevent multiple clicks.\n",
              "      quickchartButtonEl.classList.add('colab-df-spinner');\n",
              "      try {\n",
              "        const charts = await google.colab.kernel.invokeFunction(\n",
              "            'suggestCharts', [key], {});\n",
              "      } catch (error) {\n",
              "        console.error('Error during call to suggestCharts:', error);\n",
              "      }\n",
              "      quickchartButtonEl.classList.remove('colab-df-spinner');\n",
              "      quickchartButtonEl.classList.add('colab-df-quickchart-complete');\n",
              "    }\n",
              "    (() => {\n",
              "      let quickchartButtonEl =\n",
              "        document.querySelector('#df-8a409f61-c49f-4cda-9420-159feef28845 button');\n",
              "      quickchartButtonEl.style.display =\n",
              "        google.colab.kernel.accessAllowed ? 'block' : 'none';\n",
              "    })();\n",
              "  </script>\n",
              "</div>\n",
              "\n",
              "    </div>\n",
              "  </div>\n"
            ],
            "text/plain": [
              "   treatment  pre_data  post_data\n",
              "0          0  0.000381   4.019411\n",
              "1          0  0.014827  13.005336\n",
              "2          1  0.271014   7.028306\n",
              "3          0 -0.310385  -3.516433\n",
              "4          0  0.882804  -2.314829"
            ]
          },
          "execution_count": 207,
          "metadata": {},
          "output_type": "execute_result"
        }
      ],
      "source": [
        "df.head()"
      ]
    },
    {
      "cell_type": "code",
      "execution_count": null,
      "metadata": {
        "id": "gCz_CSNSa7id"
      },
      "outputs": [],
      "source": [
        "df['post_data'] = np.where(df['treatment']==0,df['post_data'],true_effect+df['post_data'])"
      ]
    },
    {
      "cell_type": "code",
      "execution_count": null,
      "metadata": {
        "colab": {
          "base_uri": "https://localhost:8080/",
          "height": 430
        },
        "id": "f28H9ooXbFLL",
        "outputId": "a9498be1-788d-4163-9177-39063d016589"
      },
      "outputs": [
        {
          "data": {
            "image/png": "[encoded data removed]",
            "text/plain": [
              "<Figure size 640x480 with 1 Axes>"
            ]
          },
          "metadata": {},
          "output_type": "display_data"
        }
      ],
      "source": [
        "plt.scatter(pre_data, post_data, s=50, c='red', marker='o')\n",
        "plt.show()"
      ]
    },
    {
      "cell_type": "code",
      "execution_count": null,
      "metadata": {
        "id": "mLc1Dq1ibdZH"
      },
      "outputs": [],
      "source": [
        "# Center Pre-Treatment\n",
        "df['pre_data_centered'] = df['pre_data'] - np.mean(df['pre_data'])\n",
        "\n",
        "# Create Interaction\n",
        "df['interact'] =  df['pre_data_centered']*df['treatment']\n",
        "\n",
        "# Convert to floats to work with statsmodels\n",
        "df['pre_data']=df['pre_data'].astype(float)\n",
        "df['post_data']=df['post_data'].astype(float)\n",
        "df['treatment'] = df['treatment'].astype(float)\n",
        "df['pre_data_centered'] = df['pre_data_centered'].astype(float)\n",
        "df['interact'] = df['interact'].astype(float)"
      ]
    },
    {
      "cell_type": "code",
      "execution_count": null,
      "metadata": {
        "colab": {
          "base_uri": "https://localhost:8080/"
        },
        "id": "FoxAMPeMbwC_",
        "outputId": "50fa90ac-3bf5-4538-e7b8-6b5c77d80e00"
      },
      "outputs": [
        {
          "name": "stdout",
          "output_type": "stream",
          "text": [
            "                            OLS Regression Results                            \n",
            "==============================================================================\n",
            "Dep. Variable:              post_data   R-squared:                       0.011\n",
            "Model:                            OLS   Adj. R-squared:                  0.008\n",
            "Method:                 Least Squares   F-statistic:                     3.525\n",
            "Date:                Sun, 20 Oct 2024   Prob (F-statistic):             0.0146\n",
            "Time:                        15:59:43   Log-Likelihood:                -3718.2\n",
            "No. Observations:                1000   AIC:                             7444.\n",
            "Df Residuals:                     996   BIC:                             7464.\n",
            "Df Model:                           3                                         \n",
            "Covariance Type:            nonrobust                                         \n",
            "=====================================================================================\n",
            "                        coef    std err          t      P>|t|      [0.025      0.975]\n",
            "-------------------------------------------------------------------------------------\n",
            "const                -0.6577      0.432     -1.523      0.128      -1.505       0.190\n",
            "treatment             1.8838      0.633      2.975      0.003       0.641       3.126\n",
            "pre_data_centered    -0.5550      0.428     -1.296      0.195      -1.395       0.285\n",
            "interact              0.6956      0.630      1.104      0.270      -0.540       1.932\n",
            "==============================================================================\n",
            "Omnibus:                        4.033   Durbin-Watson:                   2.080\n",
            "Prob(Omnibus):                  0.133   Jarque-Bera (JB):                4.376\n",
            "Skew:                           0.072   Prob(JB):                        0.112\n",
            "Kurtosis:                       3.290   Cond. No.                         2.56\n",
            "==============================================================================\n",
            "\n",
            "Notes:\n",
            "[1] Standard Errors assume that the covariance matrix of the errors is correctly specified.\n"
          ]
        }
      ],
      "source": [
        "X = df[['treatment','pre_data_centered','interact']]\n",
        "y = df['post_data']\n",
        "X = sm.add_constant(X)\n",
        "model = sm.OLS(y, X,)\n",
        "results = model.fit()\n",
        "print(results.summary())"
      ]
    },
    {
      "cell_type": "code",
      "execution_count": null,
      "metadata": {
        "id": "fyHpU4Yebw5H"
      },
      "outputs": [],
      "source": [
        "beta_control = results.params['pre_data_centered']\n",
        "beta_test = results.params['pre_data_centered']+results.params['interact']"
      ]
    },
    {
      "cell_type": "code",
      "execution_count": null,
      "metadata": {
        "colab": {
          "base_uri": "https://localhost:8080/"
        },
        "id": "NooCeM5hck5I",
        "outputId": "7ca568aa-28f6-4748-86a3-75ef69cfb1d7"
      },
      "outputs": [
        {
          "name": "stdout",
          "output_type": "stream",
          "text": [
            "Adj Control Mean: -0.6577 Adj Test Mean: 1.2261 Adj Mean Delta 1.8838\n",
            "Control Mean: -0.6505 Test Mean: 1.2282 Mean Delta 1.8787\n",
            "p-value: 0.003\n",
            "[ 0.6426 , 3.125 ]\n"
          ]
        }
      ],
      "source": [
        "unadj_test_mean = np.mean(df[df['treatment']==1]['post_data'])\n",
        "unadj_cont_mean = np.mean(df[df['treatment']==0]['post_data'])\n",
        "\n",
        "# Treatment Mean (in deltoid) = raw_mean_test + beta_test(pre_mean_pooled - pre_mean_test)\n",
        "final_test_mean = np.mean(df[df['treatment']==1]['post_data']) + beta_test*(np.mean(df['pre_data']) - np.mean(df[df['treatment']==1]['pre_data']) )\n",
        "# Control Mean (in deltoid) = raw_mean_control + beta_control(pre_mean_pooled - pre_mean_control)\n",
        "final_control_mean = np.mean(df[df['treatment']==0]['post_data']) + beta_control*(np.mean(df['pre_data']) - np.mean(df[df['treatment']==0]['pre_data']) )\n",
        "\n",
        "print('Adj Control Mean:',np.round(final_control_mean,4),'Adj Test Mean:',np.round(final_test_mean,4), 'Adj Mean Delta', np.round(final_test_mean-final_control_mean,4))\n",
        "print('Control Mean:',np.round(unadj_cont_mean,4),'Test Mean:',np.round(unadj_test_mean,4), 'Mean Delta', np.round(unadj_test_mean-unadj_cont_mean,4))\n",
        "# P-values\n",
        "print('p-value:', np.round(results.pvalues['treatment'],4))\n",
        "# Confidence Interval\n",
        "print('[',np.round((final_test_mean-final_control_mean)-results.bse['treatment']*1.96,4),',', np.round((final_test_mean-final_control_mean)+results.bse['treatment']*1.96,4),']')"
      ]
    },
    {
      "cell_type": "code",
      "execution_count": null,
      "metadata": {
        "id": "weHmBY0gqfyn"
      },
      "outputs": [],
      "source": [
        "# Regular Mean\n",
        "\n",
        "control = df[df['treatment'] == 0]['post_data']\n",
        "test = df[df['treatment'] == 1]['post_data']\n",
        "\n",
        "# Calculate the mean difference\n",
        "mean_diff = np.mean(test) - np.mean(control)\n",
        "\n",
        "# Calculate the standard error of the difference\n",
        "std_err = np.sqrt((np.var(test) / len(test)) + (np.var(control) / len(control)))\n",
        "\n",
        "# Calculate the t-statistic and p-value\n",
        "t_stat, p_value = stats.ttest_ind(test, control)\n",
        "\n",
        "# Calculate the confidence interval\n",
        "conf_int = stats.t.interval(0.95, len(test) + len(control) - 2, loc=mean_diff, scale=std_err)\n",
        "\n",
        "print(\"Mean difference:\", mean_diff)\n",
        "print(\"P-value:\", p_value)\n",
        "print(\"Confidence interval:\", np.round(conf_int,4))"
      ]
    },
    {
      "cell_type": "code",
      "execution_count": null,
      "metadata": {
        "colab": {
          "background_save": true
        },
        "id": "tsxwqedZm2nP"
      },
      "outputs": [],
      "source": []
    }
  ],
  "metadata": {
    "colab": {
      "provenance": [],
      "include_colab_link": true
    },
    "kernelspec": {
      "display_name": "Python 3",
      "name": "python3"
    },
    "language_info": {
      "name": "python"
    }
  },
  "nbformat": 4,
  "nbformat_minor": 0
}